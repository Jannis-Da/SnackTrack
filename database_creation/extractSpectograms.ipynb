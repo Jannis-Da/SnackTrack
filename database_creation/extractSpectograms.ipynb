{
 "cells": [
  {
   "cell_type": "markdown",
   "metadata": {},
   "source": [
    "### Spectrograms Extraction\n",
    "Automation script for extracting spectrograms from .wav snippets and creating metadata csv file."
   ]
  },
  {
   "cell_type": "code",
   "execution_count": 7,
   "metadata": {},
   "outputs": [],
   "source": [
    "import librosa\n",
    "import scipy\n",
    "import librosa.display\n",
    "import numpy as np\n",
    "import matplotlib.pyplot as plt\n",
    "import os\n",
    "import csv\n",
    "\n",
    "def high_pass_filter(data, sr, cutoff=500, order=4):\n",
    "    nyquist = 0.5 * sr  # Nyquist frequency\n",
    "    normal_cutoff = cutoff / nyquist  # Normalize cutoff frequency\n",
    "    # Design filter\n",
    "    b, a = scipy.signal.butter(order, normal_cutoff, btype=\"high\", analog=False)\n",
    "    # Apply filter\n",
    "    filtered_data = scipy.signal.filtfilt(b, a, data)\n",
    "    return filtered_data\n",
    "\n",
    "def audio_to_spectrogram(file_path, cutoff_frequency=40, resampling_rate = 7920, fft_size=511, hop_length=31):\n",
    "    audio_data, sample_rate = librosa.load(file_path, sr=resampling_rate) #loading and resampling\n",
    "\n",
    "    # Apply a highpass filter with a cutoff frequency of 40Hz\n",
    "    audio_data = high_pass_filter(audio_data, sample_rate, cutoff=cutoff_frequency)\n",
    "\n",
    "    # Compute Short-Time Fourier Transform (STFT)\n",
    "    S = librosa.stft(audio_data, n_fft=fft_size, hop_length=hop_length ,window='hann')\n",
    "    S_dB = librosa.amplitude_to_db(np.abs(S), ref=np.max)\n",
    "    \n",
    "    return S_dB"
   ]
  },
  {
   "cell_type": "code",
   "execution_count": 9,
   "metadata": {},
   "outputs": [],
   "source": [
    "base_path_wav = '/Users/jannisdaiber/Documents/Repos/github/ProjectMedicalWearables/Database/snippet_wavs'\n",
    "base_path_spectrograms = '/Users/jannisdaiber/Documents/Repos/github/ProjectMedicalWearables/Database/spectrograms'\n",
    "metadata = []\n",
    "food_type = None\n",
    "label_class = None\n",
    "\n",
    "chewing_count = 0\n",
    "swallowing_count = 0\n",
    "others_count = 0\n",
    "resting_count = 0\n",
    "\n",
    "for root, directories, files in os.walk(base_path_wav):\n",
    "    for dir in directories:\n",
    "        if 'participant' in dir:\n",
    "            for participant_root, _, wav_snippets in os.walk(os.path.join(base_path_wav, dir)):\n",
    "                for snippet in wav_snippets:\n",
    "                    if snippet.endswith('.wav'):\n",
    "                        label_class = snippet.split('_')[0].lower()\n",
    "                        spectrogram = audio_to_spectrogram(os.path.join(participant_root, snippet))\n",
    "                \n",
    "                        if label_class == 'chewing':\n",
    "                            chewing_count += 1\n",
    "                            spectrogram_path = os.path.join(base_path_spectrograms, dir, label_class + str(chewing_count) + '.npy')\n",
    "                            food_type = snippet.split('_')[1].lower()\n",
    "                            np.save(spectrogram_path, spectrogram)\n",
    "                        elif label_class == 'swallowing':\n",
    "                            swallowing_count += 1\n",
    "                            spectrogram_path = os.path.join(base_path_spectrograms, dir, label_class + str(swallowing_count) + '.npy')\n",
    "                            food_type = snippet.split('_')[1].lower()\n",
    "                            np.save(spectrogram_path, spectrogram)\n",
    "                        elif label_class == 'others':\n",
    "                            others_count += 1\n",
    "                            spectrogram_path = os.path.join(base_path_spectrograms, dir, label_class + str(others_count)  + '.npy')\n",
    "                            food_type = \"none\"\n",
    "                            np.save(spectrogram_path, spectrogram)\n",
    "                        elif label_class == 'resting':\n",
    "                            resting_count += 1\n",
    "                            spectrogram_path = os.path.join(base_path_spectrograms, dir, label_class + str(resting_count) + '.npy')\n",
    "                            food_type = \"none\"\n",
    "                            np.save(spectrogram_path, spectrogram)\n",
    "\n",
    "                        metadata.append({'participant': dir, 'label': label_class, 'spectrogram_path': spectrogram_path, 'food_type': food_type})\n",
    "\n",
    "with open(os.path.join(base_path_spectrograms, 'metadata.csv'), 'w', newline='') as csvfile:\n",
    "    fieldnames = [\"participant\", \"label\", \"spectrogram_path\", \"food_type\"]\n",
    "    writer = csv.DictWriter(csvfile, fieldnames=fieldnames)\n",
    "    writer.writeheader()\n",
    "    writer.writerows(metadata)                    "
   ]
  }
 ],
 "metadata": {
  "kernelspec": {
   "display_name": "SnackTrack3",
   "language": "python",
   "name": "python3"
  },
  "language_info": {
   "codemirror_mode": {
    "name": "ipython",
    "version": 3
   },
   "file_extension": ".py",
   "mimetype": "text/x-python",
   "name": "python",
   "nbconvert_exporter": "python",
   "pygments_lexer": "ipython3",
   "version": "3.9.20"
  }
 },
 "nbformat": 4,
 "nbformat_minor": 2
}
