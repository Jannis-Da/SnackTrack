{
 "cells": [
  {
   "cell_type": "markdown",
   "metadata": {},
   "source": [
    "Calculating summed up durations of .wav snippets in database based on labeled category."
   ]
  },
  {
   "cell_type": "code",
   "execution_count": null,
   "metadata": {},
   "outputs": [],
   "source": [
    "import os\n",
    "import wave\n",
    "\n",
    "def get_wav_length(file_path):\n",
    "    \"\"\"\n",
    "    Get the duration of a wav file\n",
    "    Args:\n",
    "        file_path: path to the wav file\n",
    "    \"\"\"\n",
    "    with wave.open(file_path, 'r') as wav_file:\n",
    "        frames = wav_file.getnframes()\n",
    "        rate = wav_file.getframerate()\n",
    "        duration = frames / float(rate)\n",
    "        return duration\n",
    "\n",
    "def categorize_wav_files(base_path):\n",
    "    \"\"\"\n",
    "    Categorize wav files by label class based on their filenames\n",
    "    Args:\n",
    "        base_path: path to the directory containing the wav files\n",
    "    \"\"\"\n",
    "    categories = {\n",
    "        \"chewing\": 0,\n",
    "        \"swallowing\": 0,\n",
    "        \"others\": 0,\n",
    "        \"resting\": 0\n",
    "    }\n",
    "\n",
    "    for root, _, files in os.walk(base_path):\n",
    "        for file in files:\n",
    "            if file.endswith('.wav'):\n",
    "                file_path = os.path.join(root, file)\n",
    "                duration = get_wav_length(file_path)\n",
    "                category = file.split('_')[0].lower()\n",
    "                if category in categories:\n",
    "                    categories[category] += duration\n",
    "\n",
    "    return categories"
   ]
  },
  {
   "cell_type": "code",
   "execution_count": 6,
   "metadata": {},
   "outputs": [
    {
     "name": "stdout",
     "output_type": "stream",
     "text": [
      "Total duration for chewing: 191.0 seconds\n",
      "Total duration for swallowing: 72.0 seconds\n",
      "Total duration for others: 38.0 seconds\n",
      "Total duration for resting: 3.0 seconds\n"
     ]
    }
   ],
   "source": [
    "base_path = '/Users/jannisdaiber/Documents/Repos/github/ProjectMedicalWearables/Database'\n",
    "categories = categorize_wav_files(base_path)\n",
    "\n",
    "for category, total_duration in categories.items():\n",
    "    print(f\"Total duration for {category}: {total_duration} seconds\")"
   ]
  }
 ],
 "metadata": {
  "kernelspec": {
   "display_name": "SnackTrack",
   "language": "python",
   "name": "python3"
  },
  "language_info": {
   "codemirror_mode": {
    "name": "ipython",
    "version": 3
   },
   "file_extension": ".py",
   "mimetype": "text/x-python",
   "name": "python",
   "nbconvert_exporter": "python",
   "pygments_lexer": "ipython3",
   "version": "3.9.20"
  }
 },
 "nbformat": 4,
 "nbformat_minor": 2
}
