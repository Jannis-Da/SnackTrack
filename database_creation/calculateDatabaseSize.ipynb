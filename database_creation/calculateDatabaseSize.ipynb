{
 "cells": [
  {
   "cell_type": "code",
   "execution_count": 5,
   "metadata": {},
   "outputs": [
    {
     "name": "stdout",
     "output_type": "stream",
     "text": [
      "Total duration for chewing: 67.0 seconds\n",
      "Total duration for swallowing: 12.0 seconds\n",
      "Total duration for others: 0 seconds\n",
      "Total duration for resting: 0 seconds\n"
     ]
    }
   ],
   "source": [
    "import os\n",
    "import wave\n",
    "\n",
    "def get_wav_length(file_path):\n",
    "    with wave.open(file_path, 'r') as wav_file:\n",
    "        frames = wav_file.getnframes()\n",
    "        rate = wav_file.getframerate()\n",
    "        duration = frames / float(rate)\n",
    "        return duration\n",
    "\n",
    "def categorize_wav_files(base_path):\n",
    "    categories = {\n",
    "        \"chewing\": 0,\n",
    "        \"swallowing\": 0,\n",
    "        \"others\": 0,\n",
    "        \"resting\": 0\n",
    "    }\n",
    "\n",
    "    for root, _, files in os.walk(base_path):\n",
    "        for file in files:\n",
    "            if file.endswith('.wav'):\n",
    "                file_path = os.path.join(root, file)\n",
    "                duration = get_wav_length(file_path)\n",
    "                category = file.split('_')[0].lower()\n",
    "                if category in categories:\n",
    "                    categories[category] += duration\n",
    "\n",
    "    return categories\n",
    "\n",
    "base_path = 'C:/Users/Nutzer/Documents/Uni/ProjectMedicalWearables/Database'\n",
    "categories = categorize_wav_files(base_path)\n",
    "\n",
    "for category, total_duration in categories.items():\n",
    "    print(f\"Total duration for {category}: {total_duration} seconds\")"
   ]
  }
 ],
 "metadata": {
  "kernelspec": {
   "display_name": "IntroDL",
   "language": "python",
   "name": "python3"
  },
  "language_info": {
   "codemirror_mode": {
    "name": "ipython",
    "version": 3
   },
   "file_extension": ".py",
   "mimetype": "text/x-python",
   "name": "python",
   "nbconvert_exporter": "python",
   "pygments_lexer": "ipython3",
   "version": "3.9.19"
  }
 },
 "nbformat": 4,
 "nbformat_minor": 2
}
