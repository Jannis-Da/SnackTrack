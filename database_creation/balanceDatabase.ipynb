{
 "cells": [
  {
   "cell_type": "markdown",
   "metadata": {},
   "source": [
    "### Balance Database\n",
    "\n",
    "This notebook is used to balance out the database by analysing the full dataset and creating a metadata csv file with balanced out samples from all 4 classes."
   ]
  },
  {
   "cell_type": "code",
   "execution_count": null,
   "metadata": {},
   "outputs": [],
   "source": [
    "import os\n",
    "import random\n",
    "import pandas as pd"
   ]
  },
  {
   "cell_type": "code",
   "execution_count": null,
   "metadata": {},
   "outputs": [],
   "source": [
    "# set path to database\n",
    "base_path = '/Users/jannisdaiber/Documents/Repos/github/ProjectMedicalWearables/Database'"
   ]
  },
  {
   "cell_type": "code",
   "execution_count": 18,
   "metadata": {},
   "outputs": [],
   "source": [
    "source_folder = os.path.join(base_path, 'spectrograms')\n",
    "metadata_file = os.path.join(base_path, 'metadata.csv')\n",
    "destination_metadata_file = os.path.join(base_path, 'metadata_balanced.csv')\n",
    "\n",
    "class_files = {\n",
    "    'chewing': [],\n",
    "    'swallowing': [],\n",
    "    'resting': [],\n",
    "    'others': []\n",
    "}\n",
    "\n",
    "# Collect all files from all participant folders\n",
    "participants = [d for d in os.listdir(source_folder) if os.path.isdir(os.path.join(source_folder, d))]\n",
    "for participant in participants:\n",
    "    participant_folder = os.path.join(source_folder, participant)\n",
    "    for file in os.listdir(participant_folder):\n",
    "        if file.endswith('.npy'):\n",
    "            for class_name in class_files.keys():\n",
    "                if file.startswith(class_name):\n",
    "                    class_files[class_name].append(os.path.join(participant_folder, file))\n",
    "\n",
    "# Determine the minimum class count\n",
    "min_class_count = min(len(files) for files in class_files.values())\n",
    "\n",
    "# Select an equal number of files from each class\n",
    "selected_files = []\n",
    "for class_name, files in class_files.items():\n",
    "    selected_files.extend(random.sample(files, min_class_count))\n",
    "\n",
    "# Copy the selected files to the destination folder and update metadata\n",
    "updated_metadata = []\n",
    "base_metadata = pd.read_csv(metadata_file)\n",
    "\n",
    "for file in selected_files:\n",
    "    index = base_metadata[base_metadata['spectrogram_path'] == file].index[0]\n",
    "    updated_metadata.append({\n",
    "        'participant': base_metadata['participant'][index],\n",
    "        'label': base_metadata['label'][index],\n",
    "        'spectrogram_path': file,\n",
    "        'food_type': base_metadata['food_type'][index],\n",
    "        'augmented_flag': base_metadata['augmented_flag'][index],\n",
    "        'wav_path': base_metadata['wav_path'][index]\n",
    "    })\n",
    "\n",
    "updated_metadata = pd.DataFrame(updated_metadata)\n",
    "updated_metadata.to_csv(destination_metadata_file, index=False)"
   ]
  }
 ],
 "metadata": {
  "kernelspec": {
   "display_name": "SnackTrack",
   "language": "python",
   "name": "python3"
  },
  "language_info": {
   "codemirror_mode": {
    "name": "ipython",
    "version": 3
   },
   "file_extension": ".py",
   "mimetype": "text/x-python",
   "name": "python",
   "nbconvert_exporter": "python",
   "pygments_lexer": "ipython3",
   "version": "3.9.20"
  }
 },
 "nbformat": 4,
 "nbformat_minor": 2
}
