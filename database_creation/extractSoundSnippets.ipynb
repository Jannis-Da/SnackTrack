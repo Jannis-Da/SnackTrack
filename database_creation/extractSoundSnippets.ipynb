{
 "cells": [
  {
   "cell_type": "markdown",
   "metadata": {},
   "source": [
    "### Sound Snippet Extraction\n",
    "Automation scripts for extracting labeled .wav snippets with duration of 1 sec from session recordings"
   ]
  },
  {
   "cell_type": "markdown",
   "metadata": {},
   "source": [
    "##### Extracting and labeling food intake snippets"
   ]
  },
  {
   "cell_type": "code",
   "execution_count": 2,
   "metadata": {},
   "outputs": [],
   "source": [
    "import wave\n",
    "import csv\n",
    "import os\n",
    "from decimal import Decimal"
   ]
  },
  {
   "cell_type": "code",
   "execution_count": 10,
   "metadata": {},
   "outputs": [],
   "source": [
    "# Open the wav file\n",
    "def extract_snippets(wav_file, label_file, output_dir):\n",
    "    with wave.open(wav_file, 'rb') as wav:\n",
    "        params = wav.getparams()\n",
    "        framerate = wav.getframerate()\n",
    "        n_channels = wav.getnchannels()\n",
    "        sampwidth = wav.getsampwidth()\n",
    "\n",
    "        \n",
    "        # Read the frames from the wav file\n",
    "        frames = wav.readframes(wav.getnframes())\n",
    "        \n",
    "        # Create the output directory if it doesn't exist\n",
    "        if not os.path.exists(output_dir):\n",
    "            os.makedirs(output_dir)\n",
    "        \n",
    "        # Read the csv file\n",
    "        with open(label_file, 'r') as labelfile:\n",
    "            reader = csv.DictReader(labelfile, delimiter=';')\n",
    "            for row in reader:\n",
    "                start_time = Decimal(row['start_time'])\n",
    "                end_time = Decimal(row['end_time'])\n",
    "                label = row['label']\n",
    "                \n",
    "                # Create the output wav file\n",
    "                if label in {'chewing', 'swallowing'}:\n",
    "                    for i in range(-1,2):\n",
    "                        shifted_start_time = start_time + Decimal(i * 0.25)\n",
    "                        shifted_end_time = end_time + Decimal(i * 0.25)\n",
    "                        shifted_start_frame = int(shifted_start_time * framerate)\n",
    "                        shifted_end_frame = int(shifted_end_time * framerate)\n",
    "                        \n",
    "                        # Extract the frames for the segment\n",
    "                        segment_frames = frames[shifted_start_frame * n_channels * sampwidth:shifted_end_frame * n_channels * sampwidth]\n",
    "                        output_wav_file = os.path.join(output_dir, f\"{label}_{row['food_type']}_{shifted_start_time}_{shifted_end_time}.wav\")\n",
    "                        with wave.open(output_wav_file, 'wb') as output_wav:\n",
    "                            output_wav.setparams(params)\n",
    "                            output_wav.writeframes(segment_frames)\n",
    "                elif label in {'others', 'resting'}: # others and resting are labeld as longer segements -> split them into 1 second segments\n",
    "                    i = start_time\n",
    "                    while (i + 1)<= end_time:\n",
    "                        start_frame = int(i * framerate)\n",
    "                        end_frame = int(((i + 1)) * framerate)\n",
    "                        segment_frames = frames[start_frame * n_channels * sampwidth:end_frame * n_channels * sampwidth]\n",
    "                        output_wav_file = os.path.join(output_dir, f\"{label}_{i}_{i + 1}.wav\")\n",
    "                        with wave.open(output_wav_file, 'wb') as output_wav:\n",
    "                            output_wav.setparams(params)\n",
    "                            output_wav.writeframes(segment_frames)\n",
    "                        i += 1"
   ]
  },
  {
   "cell_type": "code",
   "execution_count": null,
   "metadata": {},
   "outputs": [],
   "source": [
    "base_dir = '/Users/jannisdaiber/Documents/Repos/github/ProjectMedicalWearables/Database'\n",
    "label_dir = base_dir + '/label_metadata'\n",
    "\n",
    "for file in os.listdir(label_dir):\n",
    "    if not file.endswith('.csv'):\n",
    "        continue\n",
    "\n",
    "    participant = file.split('_')[0]\n",
    "    session = file.split('_')[1].split('.')[0]\n",
    "\n",
    "    label_file = os.path.join(label_dir, file)\n",
    "    wav_file = base_dir + '/raw_wavs' + '/' + participant + '/' + session + '/' + participant + '_' + session + '.wav'\n",
    "    output_dir =  base_dir + '/snippet_wavs' + '/' + participant + '/' + session\n",
    "    extract_snippets(wav_file, label_file, output_dir)"
   ]
  }
 ],
 "metadata": {
  "kernelspec": {
   "display_name": "SnackTrack",
   "language": "python",
   "name": "python3"
  },
  "language_info": {
   "codemirror_mode": {
    "name": "ipython",
    "version": 3
   },
   "file_extension": ".py",
   "mimetype": "text/x-python",
   "name": "python",
   "nbconvert_exporter": "python",
   "pygments_lexer": "ipython3",
   "version": "3.9.20"
  }
 },
 "nbformat": 4,
 "nbformat_minor": 2
}
