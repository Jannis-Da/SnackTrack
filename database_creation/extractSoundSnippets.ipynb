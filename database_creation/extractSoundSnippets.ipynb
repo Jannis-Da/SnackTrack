{
 "cells": [
  {
   "cell_type": "markdown",
   "metadata": {},
   "source": [
    "### Sound Snippet Extraction\n",
    "Automation scripts for extracting labeled .wav snippets with duration of 1 sec from session recordings"
   ]
  },
  {
   "cell_type": "markdown",
   "metadata": {},
   "source": [
    "##### Extracting and labeling food intake snippets"
   ]
  },
  {
   "cell_type": "code",
   "execution_count": 3,
   "metadata": {},
   "outputs": [],
   "source": [
    "import wave\n",
    "import csv\n",
    "import os\n",
    "from decimal import Decimal\n",
    "\n",
    "def split_wav_by_labels(wav_file, csv_file, output_dir):\n",
    "    # Open the wav file\n",
    "    with wave.open(wav_file, 'rb') as wav:\n",
    "        params = wav.getparams()\n",
    "        framerate = wav.getframerate()\n",
    "        n_channels = wav.getnchannels()\n",
    "        sampwidth = wav.getsampwidth()\n",
    "\n",
    "        \n",
    "        # Read the frames from the wav file\n",
    "        frames = wav.readframes(wav.getnframes())\n",
    "        \n",
    "        # Create the output directory if it doesn't exist\n",
    "        if not os.path.exists(output_dir):\n",
    "            os.makedirs(output_dir)\n",
    "        \n",
    "        # Read the csv file\n",
    "        with open(csv_file, 'r') as labelfile:\n",
    "            reader = csv.DictReader(labelfile)\n",
    "            for row in reader:\n",
    "                start_time = Decimal(row['start_time'])\n",
    "                end_time = Decimal(row['end_time'])\n",
    "                label = row['label']\n",
    "                \n",
    "                # Create the output wav file\n",
    "                if label in {'chewing', 'swallowing'}:\n",
    "                    # Calculate the start and end frame indices\n",
    "                    start_frame = int(start_time * framerate)\n",
    "                    end_frame = int(end_time * framerate)\n",
    "                    \n",
    "                    # Extract the frames for the segment\n",
    "                    segment_frames = frames[start_frame * n_channels * sampwidth:end_frame * n_channels * sampwidth]\n",
    "                    output_wav_file = os.path.join(output_dir, f\"{label}_{row['food_type']}_{start_time}_{end_time}.wav\")\n",
    "                    with wave.open(output_wav_file, 'wb') as output_wav:\n",
    "                        output_wav.setparams(params)\n",
    "                        output_wav.writeframes(segment_frames)\n",
    "                elif label in {'others', 'resting'}:\n",
    "                    i = start_time\n",
    "                    while (i + 1)<= end_time:\n",
    "                        start_frame = int(i * framerate)\n",
    "                        end_frame = int(((i + 1)) * framerate)\n",
    "                        segment_frames = frames[start_frame * n_channels * sampwidth:end_frame * n_channels * sampwidth]\n",
    "                        output_wav_file = os.path.join(output_dir, f\"{label}_{i}_{i + 1}.wav\")\n",
    "                        with wave.open(output_wav_file, 'wb') as output_wav:\n",
    "                            output_wav.setparams(params)\n",
    "                            output_wav.writeframes(segment_frames)\n",
    "                        i += 1\n"
   ]
  },
  {
   "cell_type": "code",
   "execution_count": 7,
   "metadata": {},
   "outputs": [],
   "source": [
    "base_dir = '/Users/jannisdaiber/Documents/Repos/github/ProjectMedicalWearables/Database'\n",
    "participant = 'participant01'\n",
    "session = 'session01'\n",
    "\n",
    "raw_wav_dir = base_dir + '/raw_wavs' + '/' + participant + '/' + session + '/' + participant + '_' + session + '.wav'\n",
    "label_metadata_dir =  base_dir + '/label_metadata' + '/' + participant + '_' + session + '.csv'\n",
    "output_dir =  base_dir + '/snippet_wavs' + '/' + participant + '/' + session\n",
    "\n",
    "\n",
    "split_wav_by_labels(raw_wav_dir, label_metadata_dir, output_dir)"
   ]
  }
 ],
 "metadata": {
  "kernelspec": {
   "display_name": "SnackTrack",
   "language": "python",
   "name": "python3"
  },
  "language_info": {
   "codemirror_mode": {
    "name": "ipython",
    "version": 3
   },
   "file_extension": ".py",
   "mimetype": "text/x-python",
   "name": "python",
   "nbconvert_exporter": "python",
   "pygments_lexer": "ipython3",
   "version": "3.9.20"
  }
 },
 "nbformat": 4,
 "nbformat_minor": 2
}
