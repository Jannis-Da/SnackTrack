{
 "cells": [
  {
   "cell_type": "code",
   "execution_count": null,
   "metadata": {},
   "outputs": [],
   "source": [
    "import librosa\n",
    "import soundfile as sf\n",
    "import numpy as np\n",
    "import os\n",
    "\n",
    "def random_pitch_volume_augment(input_file, output_file, pitch_range, volume_range):\n",
    "    \"\"\"\n",
    "    Apply random pitch and volume augmentation to a single WAV file.\n",
    "    \n",
    "    Args:\n",
    "        input_file (str): Path to the input WAV file.\n",
    "        output_file (str): Path to save the augmented WAV file.\n",
    "        pitch_range (tuple): Range for pitch shift (min_semitones, max_semitones).\n",
    "        volume_range (tuple): Range for volume adjustment (min_dB, max_dB).\n",
    "    \"\"\"\n",
    "    # Load the audio file\n",
    "    y, sr = librosa.load(input_file, sr=None)\n",
    "    \n",
    "    # Apply random pitch shift, ensuring it's not zero\n",
    "    while True:\n",
    "        pitch_shift = np.random.uniform(pitch_range[0], pitch_range[1])\n",
    "        if pitch_shift != 0:\n",
    "            break\n",
    "    y = librosa.effects.pitch_shift(y, sr=sr, n_steps=pitch_shift)\n",
    "    \n",
    "    # Apply random volume adjustment, ensuring it's not zero\n",
    "    while True:\n",
    "        volume_adjustment = np.random.uniform(volume_range[0], volume_range[1])\n",
    "        if volume_adjustment != 0:\n",
    "            break\n",
    "    y = y * (10 ** (volume_adjustment / 20))\n",
    "    \n",
    "    # Save the augmented audio file\n",
    "    sf.write(output_file, y, sr)\n",
    "    print(f\"{os.path.basename(output_file)}:   Pitch shift: {pitch_shift}, Volume shift: {volume_adjustment}\")\n",
    "\n",
    "def batch_random_augment(input_dir, output_dir, pitch_range, volume_range):\n",
    "    \"\"\"\n",
    "    Apply random pitch and volume augmentation to all WAV files with swallowing sounds.\n",
    "    \n",
    "    Args:\n",
    "        input_dir (str): Directory containing input WAV files.\n",
    "        output_dir (str): Directory to save augmented WAV files.\n",
    "        pitch_range (tuple): Range for pitch shift (min_semitones, max_semitones).\n",
    "        volume_range (tuple): Range for volume adjustment (min_dB, max_dB).\n",
    "    \"\"\"\n",
    "    os.makedirs(output_dir, exist_ok=True)\n",
    "    for file_name in os.listdir(input_dir):\n",
    "        if file_name.endswith(\".wav\") and file_name.startswith(\"swallowing\"):\n",
    "            input_file = os.path.join(input_dir, file_name)\n",
    "            base_name = os.path.splitext(file_name)[0] \n",
    "            output_file = os.path.join(output_dir, f\"{base_name}_aug.wav\")\n",
    "            random_pitch_volume_augment(input_file, output_file, pitch_range, volume_range)"
   ]
  },
  {
   "cell_type": "code",
   "execution_count": null,
   "metadata": {},
   "outputs": [
    {
     "name": "stdout",
     "output_type": "stream",
     "text": [
      "swallowing_apple_42.687_43.687_aug.wav:   Pitch shift: -0.9250267853566263, Volume shift: 3.917263672743317\n",
      "swallowing_yoghurt_102.093_103.093_aug.wav:   Pitch shift: -0.38282825132273124, Volume shift: -0.5576814549575211\n",
      "swallowing_yoghurt_107.763_108.763_aug.wav:   Pitch shift: -0.62833732159937, Volume shift: 1.166577781152844\n",
      "swallowing_water_29.523_30.523_aug.wav:   Pitch shift: -0.21456352321026473, Volume shift: -2.599125070969198\n",
      "swallowing_bread_60.655_61.655_aug.wav:   Pitch shift: -0.84750466365211, Volume shift: -1.312244905833646\n",
      "swallowing_cookie_81.987_82.987_aug.wav:   Pitch shift: -0.4341340123864712, Volume shift: 1.8462620256016828\n",
      "swallowing_apple_44.609_45.609_aug.wav:   Pitch shift: 0.4243259673584543, Volume shift: 2.2507449107041344\n",
      "swallowing_chip_93.998_94.998_aug.wav:   Pitch shift: 0.11432060479370931, Volume shift: 0.7750290098159329\n",
      "swallowing_carrot_17.992_18.992_aug.wav:   Pitch shift: 0.05885114399012781, Volume shift: 5.0444000101984745\n"
     ]
    }
   ],
   "source": [
    "batch_random_augment(\n",
    "    input_dir=\"/Users/jannisdaiber/Documents/Repos/github/ProjectMedicalWearables/Database/snippet_wavs/participant03/session01\",\n",
    "    output_dir = \"/Users/jannisdaiber/Documents/Repos/github/ProjectMedicalWearables/Database/snippet_wavs/participant03/session01\",\n",
    "    pitch_range=(-1, 1),  # Pitch shift range in semitones\n",
    "    volume_range=(-4, 7)  # Volume adjustment range in dB\n",
    ")\n"
   ]
  }
 ],
 "metadata": {
  "kernelspec": {
   "display_name": "SnackTrack",
   "language": "python",
   "name": "python3"
  },
  "language_info": {
   "codemirror_mode": {
    "name": "ipython",
    "version": 3
   },
   "file_extension": ".py",
   "mimetype": "text/x-python",
   "name": "python",
   "nbconvert_exporter": "python",
   "pygments_lexer": "ipython3",
   "version": "3.9.20"
  }
 },
 "nbformat": 4,
 "nbformat_minor": 2
}
