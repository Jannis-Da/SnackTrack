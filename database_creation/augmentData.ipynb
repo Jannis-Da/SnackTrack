{
 "cells": [
  {
   "cell_type": "markdown",
   "metadata": {},
   "source": [
    "### Data augmentation\n",
    "\n",
    "This script is used to enhance the database by augmenting (change pitch and volume randomly) the wav snippets for swallowing sounds (underrepresented class in database)."
   ]
  },
  {
   "cell_type": "code",
   "execution_count": 17,
   "metadata": {},
   "outputs": [],
   "source": [
    "import librosa\n",
    "import soundfile as sf\n",
    "import numpy as np\n",
    "import os"
   ]
  },
  {
   "cell_type": "code",
   "execution_count": 18,
   "metadata": {},
   "outputs": [],
   "source": [
    "def random_pitch_volume_augment(input_file, output_file, pitch_range, volume_range):\n",
    "    \"\"\"\n",
    "    Apply random pitch and volume augmentation to a single WAV file.\n",
    "    \n",
    "    Args:\n",
    "        input_file (str): Path to the input WAV file.\n",
    "        output_file (str): Path to save the augmented WAV file.\n",
    "        pitch_range (tuple): Range for pitch shift (min_semitones, max_semitones).\n",
    "        volume_range (tuple): Range for volume adjustment (min_dB, max_dB).\n",
    "    \"\"\"\n",
    "    # Load the audio file\n",
    "    y, sr = librosa.load(input_file, sr=None)\n",
    "    \n",
    "    # Apply random pitch shift, ensuring it's not zero\n",
    "    while True:\n",
    "        pitch_shift = np.random.uniform(pitch_range[0], pitch_range[1])\n",
    "        if pitch_shift != 0:\n",
    "            break\n",
    "    y = librosa.effects.pitch_shift(y, sr=sr, n_steps=pitch_shift)\n",
    "    \n",
    "    # Apply random volume adjustment, ensuring it's not zero\n",
    "    while True:\n",
    "        volume_adjustment = np.random.uniform(volume_range[0], volume_range[1])\n",
    "        if volume_adjustment != 0:\n",
    "            break\n",
    "    y = y * (10 ** (volume_adjustment / 20))\n",
    "    \n",
    "    # Save the augmented audio file\n",
    "    sf.write(output_file, y, sr)"
   ]
  },
  {
   "cell_type": "code",
   "execution_count": 27,
   "metadata": {},
   "outputs": [],
   "source": [
    "snippet_dir = '/Users/jannisdaiber/Documents/Repos/github/ProjectMedicalWearables/Database/snippet_wavs'\n",
    "\n",
    "pitch_range=(-1, 1)  # Pitch shift range in semitones\n",
    "volume_range=(-4, 7)  # Volume adjustment range in dB\n",
    "\n",
    "for root, _, files in os.walk(snippet_dir):\n",
    "        for file in files:\n",
    "            if file.endswith('.wav') and file.startswith(\"swallowing\"):\n",
    "                input_file = os.path.join(root, file)\n",
    "                base_name = os.path.splitext(file)[0] \n",
    "                output_file = os.path.join(root, f\"{base_name}_aug.wav\")\n",
    "                random_pitch_volume_augment(input_file, output_file, pitch_range, volume_range)\n"
   ]
  }
 ],
 "metadata": {
  "kernelspec": {
   "display_name": "SnackTrack",
   "language": "python",
   "name": "python3"
  },
  "language_info": {
   "codemirror_mode": {
    "name": "ipython",
    "version": 3
   },
   "file_extension": ".py",
   "mimetype": "text/x-python",
   "name": "python",
   "nbconvert_exporter": "python",
   "pygments_lexer": "ipython3",
   "version": "3.9.20"
  }
 },
 "nbformat": 4,
 "nbformat_minor": 2
}
