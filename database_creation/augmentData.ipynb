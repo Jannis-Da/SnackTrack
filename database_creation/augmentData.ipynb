{
 "cells": [
  {
   "cell_type": "markdown",
   "metadata": {},
   "source": [
    "### Data augmentation\n",
    "\n",
    "This script is used to enhance the database by augmenting (change pitch and volume randomly) the wav snippets for swallowing sounds (underrepresented class in database)."
   ]
  },
  {
   "cell_type": "code",
   "execution_count": null,
   "metadata": {},
   "outputs": [],
   "source": [
    "import librosa\n",
    "import soundfile as sf\n",
    "import numpy as np\n",
    "import os"
   ]
  },
  {
   "cell_type": "code",
   "execution_count": 2,
   "metadata": {},
   "outputs": [],
   "source": [
    "def random_pitch_volume_augment(input_file, output_file, pitch_range, volume_range):\n",
    "    \"\"\"\n",
    "    Apply random pitch and volume augmentation to a single WAV file.\n",
    "    \n",
    "    Args:\n",
    "        input_file (str): Path to the input WAV file.\n",
    "        output_file (str): Path to save the augmented WAV file.\n",
    "        pitch_range (tuple): Range for pitch shift (min_semitones, max_semitones).\n",
    "        volume_range (tuple): Range for volume adjustment (min_dB, max_dB).\n",
    "    \"\"\"\n",
    "    # Load the audio file\n",
    "    y, sr = librosa.load(input_file, sr=None)\n",
    "    \n",
    "    # Apply random pitch shift, ensuring it's not zero\n",
    "    while True:\n",
    "        pitch_shift = np.random.uniform(pitch_range[0], pitch_range[1])\n",
    "        if pitch_shift != 0:\n",
    "            break\n",
    "    y = librosa.effects.pitch_shift(y, sr=sr, n_steps=pitch_shift)\n",
    "    \n",
    "    # Apply random volume adjustment, ensuring it's not zero\n",
    "    while True:\n",
    "        volume_adjustment = np.random.uniform(volume_range[0], volume_range[1])\n",
    "        if volume_adjustment != 0:\n",
    "            break\n",
    "    y = y * (10 ** (volume_adjustment / 20))\n",
    "    \n",
    "    # Save the augmented audio file\n",
    "    sf.write(output_file, y, sr)"
   ]
  },
  {
   "cell_type": "code",
   "execution_count": 8,
   "metadata": {},
   "outputs": [
    {
     "name": "stdout",
     "output_type": "stream",
     "text": [
      "swallowing_water_50.806_51.806_aug.wav:   Pitch shift: -0.6272748873304037, Volume shift: -0.7528225544710994\n",
      "swallowing_cookie_103.943_104.943_aug.wav:   Pitch shift: 0.6853760956869943, Volume shift: 4.897471679462086\n",
      "swallowing_water_46.24_47.24_aug.wav:   Pitch shift: -0.3211447602300679, Volume shift: -2.4971086693195046\n",
      "swallowing_chip_80.823_81.823_aug.wav:   Pitch shift: 0.4485007453371732, Volume shift: 5.98189548426215\n",
      "swallowing_apple_115.018_116.018_aug.wav:   Pitch shift: -0.8343850923832259, Volume shift: -2.210092602759978\n",
      "swallowing_carrot_67.126_68.126_aug.wav:   Pitch shift: -0.4071094540471525, Volume shift: -3.4639537549001513\n",
      "swallowing_yoghurt_87.623_88.623_aug.wav:   Pitch shift: -0.9250210209922975, Volume shift: 5.99545253813147\n",
      "swallowing_bread_33.029_34.029_aug.wav:   Pitch shift: -0.40250888245466787, Volume shift: 1.288367332209555\n",
      "swallowing_bread_30.309_31.309_aug.wav:   Pitch shift: 0.16635921892182126, Volume shift: -1.4419428301254964\n"
     ]
    }
   ],
   "source": [
    "input_dir=\"/Users/jannisdaiber/Documents/Repos/github/ProjectMedicalWearables/Database/snippet_wavs/participant05/session01\",\n",
    "output_dir = \"/Users/jannisdaiber/Documents/Repos/github/ProjectMedicalWearables/Database/snippet_wavs/participant05/session01\",\n",
    "pitch_range=(-1, 1),  # Pitch shift range in semitones\n",
    "volume_range=(-4, 7)  # Volume adjustment range in dB\n",
    "\n",
    "os.makedirs(output_dir, exist_ok=True)\n",
    "for file_name in os.listdir(input_dir):\n",
    "    if file_name.endswith(\".wav\") and file_name.startswith(\"swallowing\"):\n",
    "        input_file = os.path.join(input_dir, file_name)\n",
    "        base_name = os.path.splitext(file_name)[0] \n",
    "        output_file = os.path.join(output_dir, f\"{base_name}_aug.wav\")\n",
    "        random_pitch_volume_augment(input_file, output_file, pitch_range, volume_range)\n"
   ]
  }
 ],
 "metadata": {
  "kernelspec": {
   "display_name": "SnackTrack",
   "language": "python",
   "name": "python3"
  },
  "language_info": {
   "codemirror_mode": {
    "name": "ipython",
    "version": 3
   },
   "file_extension": ".py",
   "mimetype": "text/x-python",
   "name": "python",
   "nbconvert_exporter": "python",
   "pygments_lexer": "ipython3",
   "version": "3.9.20"
  }
 },
 "nbformat": 4,
 "nbformat_minor": 2
}
