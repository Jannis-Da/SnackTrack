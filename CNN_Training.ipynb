{
 "cells": [
  {
   "cell_type": "code",
   "execution_count": 2,
   "metadata": {},
   "outputs": [],
   "source": [
    "from SnackTrackDataset import SnackTrackDataset\n",
    "import torch\n",
    "import torch.nn as nn\n",
    "import torch.optim as optim\n",
    "from torch.utils.data import DataLoader, Subset\n",
    "from sklearn.model_selection import train_test_split\n",
    "import pandas as pd\n",
    "import numpy as np\n",
    "from torchvision.transforms import Compose\n",
    "import matplotlib.pyplot as plt\n",
    "from tqdm import tqdm\n",
    "from math import ceil\n",
    "import random\n",
    "from SnackTrackBasicModel import BasicModel"
   ]
  },
  {
   "cell_type": "code",
   "execution_count": 2,
   "metadata": {},
   "outputs": [
    {
     "name": "stdout",
     "output_type": "stream",
     "text": [
      "Validation participant: participant01\n",
      "Training participants: ['participant02', 'participant05', 'participant04', 'participant03']\n"
     ]
    }
   ],
   "source": [
    "# prepare dataset with participant split\n",
    "# Load metadata (example dataframe)\n",
    "metadata_file = \"/Users/jannisdaiber/Documents/Repos/github/ProjectMedicalWearables/Database/spectrograms/metadata.csv\"  # Path to metadata file\n",
    "metadata = pd.read_csv(metadata_file)\n",
    "\n",
    "# Group by participant\n",
    "participants = metadata['participant'].unique()\n",
    "\n",
    "# Select one participant for validation\n",
    "val_participant = random.choice(participants)  # Randomly select one participant\n",
    "train_participants = [p for p in participants if p != val_participant]\n",
    "\n",
    "# Create metadata subsets\n",
    "train_metadata = metadata[metadata['participant'].isin(train_participants)]\n",
    "val_metadata = metadata[metadata['participant'] == val_participant]\n",
    "\n",
    "# Create datasets\n",
    "train_dataset = SnackTrackDataset(train_metadata)\n",
    "val_dataset = SnackTrackDataset(val_metadata)\n",
    "\n",
    "train_size = len(train_dataset)\n",
    "val_size = len(val_dataset)\n",
    "\n",
    "print(f\"Validation participant: {val_participant}\")\n",
    "print(f\"Training participants: {train_participants}\")"
   ]
  },
  {
   "cell_type": "code",
   "execution_count": null,
   "metadata": {},
   "outputs": [],
   "source": [
    "# prepare dataset with random split\n",
    "# Dataset and DataLoader\n",
    "metadata_file = \"/Users/jannisdaiber/Documents/Repos/github/ProjectMedicalWearables/Database/metadata_balanced.csv\"  # Path to metadata file\n",
    "metadata = pd.read_csv(metadata_file)\n",
    "dataset = SnackTrackDataset(metadata)\n",
    "\n",
    "# Split into train and validation sets\n",
    "train_size = int(0.7 * len(dataset))\n",
    "val_size = len(dataset) - train_size\n",
    "train_dataset, val_dataset = torch.utils.data.random_split(dataset, [train_size, val_size])"
   ]
  },
  {
   "cell_type": "code",
   "execution_count": 31,
   "metadata": {},
   "outputs": [
    {
     "name": "stdout",
     "output_type": "stream",
     "text": [
      "Using device: mps\n"
     ]
    },
    {
     "name": "stderr",
     "output_type": "stream",
     "text": [
      "train epoch 0: 100%|██████████| 29/29 [00:24<00:00,  1.20it/s, loss=15.4, accuracy=0.289]\n",
      "val epoch 0: 100%|██████████| 13/13 [00:22<00:00,  1.74s/it, loss=0.0595, accuracy=0.643]\n",
      "train epoch 1: 100%|██████████| 29/29 [00:23<00:00,  1.23it/s, loss=0.0324, accuracy=0.846]\n",
      "val epoch 1: 100%|██████████| 13/13 [00:22<00:00,  1.74s/it, loss=0.0198, accuracy=0.903]\n",
      "train epoch 2: 100%|██████████| 29/29 [00:23<00:00,  1.23it/s, loss=0.00788, accuracy=0.965]\n",
      "val epoch 2: 100%|██████████| 13/13 [00:22<00:00,  1.73s/it, loss=0.0152, accuracy=0.923]\n",
      "train epoch 3: 100%|██████████| 29/29 [00:23<00:00,  1.23it/s, loss=0.00351, accuracy=0.993]\n",
      "val epoch 3: 100%|██████████| 13/13 [00:22<00:00,  1.72s/it, loss=0.0168, accuracy=0.903]\n"
     ]
    }
   ],
   "source": [
    "# Parameters\n",
    "batch_size = 16\n",
    "learning_rate = 0.001\n",
    "num_epochs = 4\n",
    "\n",
    "device = torch.device(\"mps\" if torch.backends.mps.is_available() else \"cpu\")\n",
    "print(f\"Using device: {device}\")\n",
    "\n",
    "train_loader = DataLoader(train_dataset, batch_size=batch_size, shuffle=True, num_workers=4)\n",
    "val_loader = DataLoader(val_dataset, batch_size=batch_size, shuffle=False, num_workers=4)\n",
    "\n",
    "# Initialize model, loss, optimizer\n",
    "model = BasicModel()\n",
    "criterion = nn.CrossEntropyLoss()\n",
    "optimizer = optim.Adam(model.parameters(), lr=learning_rate)\n",
    "model.to(device)\n",
    "\n",
    "train_losses = []\n",
    "val_losses = []\n",
    "train_accuracy = []\n",
    "val_accuracy = []\n",
    "\n",
    "train_samples = []\n",
    "train_predictions = []\n",
    "\n",
    "for epoch in range(num_epochs):\n",
    "    # perform training followed by validation\n",
    "    for mode, loader, num_samples in [\n",
    "        (\"train\", train_loader, train_size),\n",
    "        (\"val\", val_loader, val_size)\n",
    "    ]:\n",
    "        # progress bar setup\n",
    "        num_batches = int(ceil(num_samples / batch_size))\n",
    "        pbar = tqdm(total=num_batches, desc=f\"{mode} epoch {epoch}\")\n",
    "\n",
    "        if mode == \"train\":\n",
    "            model.train()\n",
    "        else:\n",
    "            model.eval()\n",
    "\n",
    "        # initial values of the metrics (loss, accurracy)\n",
    "        runningLoss = 0.\n",
    "        correct_predictions = 0\n",
    "        # total number of images that were processed\n",
    "        total_samples = 0\n",
    "\n",
    "        for spectrograms, labels in loader:\n",
    "\n",
    "            #if mode == \"train\":\n",
    "                # Randomize the labels\n",
    "             #   labels = labels[torch.randperm(labels.size(0))]\n",
    "            train_samples.extend(labels.numpy())\n",
    "\n",
    "            # move tensors to the correct device\n",
    "            spectrograms, labels = spectrograms.to(device), labels.to(device)\n",
    "            # forward step of model\n",
    "            outputs = model(spectrograms)\n",
    "\n",
    "            train_predictions.append(outputs.argmax(dim=1))\n",
    "            #print(outputs.argmax(dim=1))\n",
    "\n",
    "            # loss calculation\n",
    "            loss = criterion(outputs, labels)\n",
    "\n",
    "            # calculate metrix for progress bar\n",
    "            num_batch_samples = len(spectrograms)\n",
    "            runningLoss += loss.item()\n",
    "            correct_predictions += (outputs.argmax(dim=1) == labels).sum().item()\n",
    "            total_samples += num_batch_samples\n",
    "\n",
    "            pbar.update(1)\n",
    "            pbar.set_postfix({\n",
    "                \"loss\": runningLoss / total_samples,\n",
    "                \"accuracy\": correct_predictions / total_samples\n",
    "            })\n",
    "            \n",
    "            # if in train mode update weights\n",
    "            if mode == \"train\":\n",
    "                # backward step\n",
    "                optimizer.zero_grad()\n",
    "                loss.backward()\n",
    "                optimizer.step()\n",
    "            \n",
    "        epoch_loss = runningLoss / total_samples\n",
    "        epoch_accuracy = correct_predictions / total_samples\n",
    "        if mode == \"train\":\n",
    "            train_losses.append(epoch_loss)\n",
    "            train_accuracy.append(epoch_accuracy)\n",
    "        else:\n",
    "            val_losses.append(epoch_loss)\n",
    "            val_accuracy.append(epoch_accuracy)\n",
    "\n",
    "        pbar.close()"
   ]
  },
  {
   "cell_type": "code",
   "execution_count": 6,
   "metadata": {},
   "outputs": [
    {
     "data": {
      "image/png": "[encoded data removed]",
      "text/plain": [
       "<Figure size 1500x500 with 2 Axes>"
      ]
     },
     "metadata": {},
     "output_type": "display_data"
    }
   ],
   "source": [
    "fig, axes = plt.subplots(1, 2, figsize=(15, 5))\n",
    "\n",
    "# Plot loss\n",
    "axes[0].set_title(\"Loss\")\n",
    "axes[0].plot(train_losses, label=\"train\")\n",
    "axes[0].plot(val_losses, label=\"val\")\n",
    "axes[0].set_xlabel(\"Epochs\")\n",
    "axes[0].set_ylabel(\"Loss\")\n",
    "axes[0].legend()\n",
    "\n",
    "# Plot accuracy\n",
    "axes[1].set_title(\"Accuracy\")\n",
    "axes[1].plot(train_accuracy, label=\"train\")\n",
    "axes[1].plot(val_accuracy, label=\"val\")\n",
    "axes[1].set_xlabel(\"Epochs\")\n",
    "axes[1].set_ylabel(\"Accuracy\")\n",
    "axes[1].legend()\n",
    "\n",
    "plt.tight_layout()\n",
    "plt.show()"
   ]
  },
  {
   "cell_type": "code",
   "execution_count": 32,
   "metadata": {},
   "outputs": [],
   "source": [
    "torch.save(model.state_dict(), 'STBasicModel.pth')"
   ]
  }
 ],
 "metadata": {
  "kernelspec": {
   "display_name": "SnackTrack",
   "language": "python",
   "name": "python3"
  },
  "language_info": {
   "codemirror_mode": {
    "name": "ipython",
    "version": 3
   },
   "file_extension": ".py",
   "mimetype": "text/x-python",
   "name": "python",
   "nbconvert_exporter": "python",
   "pygments_lexer": "ipython3",
   "version": "3.9.20"
  }
 },
 "nbformat": 4,
 "nbformat_minor": 2
}
