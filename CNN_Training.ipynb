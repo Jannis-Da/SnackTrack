{
 "cells": [
  {
   "cell_type": "code",
   "execution_count": 10,
   "metadata": {},
   "outputs": [],
   "source": [
    "from SnackTrackDataset import SnackTrackDataset\n",
    "import torch\n",
    "import torch.nn as nn\n",
    "import torch.optim as optim\n",
    "from torch.utils.data import DataLoader, Subset\n",
    "from sklearn.model_selection import train_test_split\n",
    "import pandas as pd\n",
    "import numpy as np\n",
    "from torchvision.transforms import Compose\n",
    "import matplotlib.pyplot as plt\n",
    "from tqdm import tqdm\n",
    "from math import ceil"
   ]
  },
  {
   "cell_type": "code",
   "execution_count": 2,
   "metadata": {},
   "outputs": [],
   "source": [
    "class CNNModel(nn.Module):\n",
    "    def __init__(self):\n",
    "        super(CNNModel, self).__init__()\n",
    "        self.conv = nn.Sequential(\n",
    "            nn.Conv2d(1, 16, kernel_size=3, stride=1, padding=1),\n",
    "            nn.ReLU(),\n",
    "            nn.MaxPool2d(2, 2),\n",
    "            nn.Conv2d(16, 32, kernel_size=3, stride=1, padding=1),\n",
    "            nn.ReLU(),\n",
    "            nn.MaxPool2d(2, 2)\n",
    "        )\n",
    "        self.fc = nn.Sequential(\n",
    "            nn.Flatten(),\n",
    "            nn.Linear(32 * 64 * 64, 128),  # Adjust based on input size\n",
    "            nn.ReLU(),\n",
    "            nn.Linear(128, 4)  # Output for 4 classes\n",
    "        )\n",
    "\n",
    "        self.conv1 = nn.Conv2d(1, 16, kernel_size=3, stride=1, padding=1)\n",
    "        self.relu1 = nn.ReLU()\n",
    "        self.maxpool1 = nn.MaxPool2d(2, 2)\n",
    "        self.conv2 = nn.Conv2d(16, 32, kernel_size=3, stride=1, padding=1)\n",
    "        self.relu2 = nn.ReLU()\n",
    "        self.maxpool2 = nn.MaxPool2d(2, 2)\n",
    "        self.flatten = nn.Flatten()\n",
    "        self.fc1 = nn.Linear(32 * 64 * 64, 128)\n",
    "        self.relu3 = nn.ReLU()\n",
    "        self.fc2 = nn.Linear(128, 4)\n",
    "\n",
    "    def forward(self, x):\n",
    "        x = self.conv1(x)\n",
    "        x = self.relu1(x)\n",
    "        x = self.maxpool1(x)\n",
    "        x = self.conv2(x)\n",
    "        x = self.relu2(x)\n",
    "        x = self.maxpool2(x)\n",
    "        x = self.flatten(x)\n",
    "        x = self.fc1(x)\n",
    "        x = self.relu3(x)\n",
    "        x = self.fc2(x)\n",
    "        return x"
   ]
  },
  {
   "cell_type": "code",
   "execution_count": null,
   "metadata": {},
   "outputs": [],
   "source": [
    "# prepare dataset with participant split\n",
    "# Load metadata (example dataframe)\n",
    "metadata_file = \"/Users/jannisdaiber/Documents/Repos/github/ProjectMedicalWearables/Database/spectrograms/metadata.csv\"  # Path to metadata file\n",
    "metadata = pd.read_csv(metadata_file)\n",
    "\n",
    "# Group by participant\n",
    "participants = metadata['participant'].unique()\n",
    "\n",
    "# Split participants into train/val\n",
    "train_participants, val_participants = train_test_split(participants, test_size=0.2, random_state=42)\n",
    "\n",
    "# Get indices for train/val participants\n",
    "train_indices = metadata[metadata['participant'].isin(train_participants)].index.tolist()\n",
    "val_indices = metadata[metadata['participant'].isin(val_participants)].index.tolist()\n",
    "\n",
    "# Create full dataset\n",
    "full_dataset = SnackTrackDataset(metadata)\n",
    "\n",
    "# Create Subsets for train/val\n",
    "train_dataset = Subset(full_dataset, train_indices)\n",
    "val_dataset = Subset(full_dataset, val_indices)"
   ]
  },
  {
   "cell_type": "code",
   "execution_count": null,
   "metadata": {},
   "outputs": [],
   "source": [
    "# prepare dataset with random split\n",
    "# Dataset and DataLoader\n",
    "dataset = SnackTrackDataset(metadata_file)\n",
    "\n",
    "# Split into train and validation sets\n",
    "train_size = int(0.8 * len(dataset))\n",
    "val_size = len(dataset) - train_size\n",
    "train_dataset, val_dataset = torch.utils.data.random_split(dataset, [train_size, val_size])\n",
    "train_dataset, val_dataset = torch.utils.data.random_split(dataset, [train_size, val_size])"
   ]
  },
  {
   "cell_type": "code",
   "execution_count": null,
   "metadata": {},
   "outputs": [
    {
     "name": "stderr",
     "output_type": "stream",
     "text": [
      "train epoch 0:   0%|          | 0/7 [00:00<?, ?it/s][W NNPACK.cpp:61] Could not initialize NNPACK! Reason: Unsupported hardware.\n",
      "train epoch 0: 100%|██████████| 7/7 [00:25<00:00,  3.62s/it, loss=20.8, accuracy=0.3]   \n",
      "val epoch 0: 100%|██████████| 2/2 [00:12<00:00,  6.16s/it, loss=8.18, accuracy=0.24] \n",
      "train epoch 1: 100%|██████████| 7/7 [00:24<00:00,  3.49s/it, loss=3.9, accuracy=0.34]   \n",
      "val epoch 1: 100%|██████████| 2/2 [00:12<00:00,  6.19s/it, loss=0.324, accuracy=0.24]\n",
      "train epoch 2: 100%|██████████| 7/7 [00:24<00:00,  3.52s/it, loss=0.126, accuracy=0.46] \n",
      "val epoch 2: 100%|██████████| 2/2 [00:12<00:00,  6.30s/it, loss=0.063, accuracy=0.52]  \n",
      "train epoch 3: 100%|██████████| 7/7 [00:24<00:00,  3.54s/it, loss=0.0335, accuracy=0.79] \n",
      "val epoch 3: 100%|██████████| 2/2 [00:12<00:00,  6.38s/it, loss=0.0186, accuracy=0.92] \n",
      "train epoch 4: 100%|██████████| 7/7 [00:24<00:00,  3.49s/it, loss=0.0253, accuracy=0.93] \n",
      "val epoch 4: 100%|██████████| 2/2 [00:12<00:00,  6.11s/it, loss=0.04, accuracy=0.92]   \n",
      "train epoch 5: 100%|██████████| 7/7 [00:24<00:00,  3.57s/it, loss=0.025, accuracy=0.91]  \n",
      "val epoch 5: 100%|██████████| 2/2 [00:12<00:00,  6.12s/it, loss=0.0292, accuracy=0.84] \n",
      "train epoch 6: 100%|██████████| 7/7 [00:24<00:00,  3.47s/it, loss=0.0157, accuracy=0.95] \n",
      "val epoch 6: 100%|██████████| 2/2 [00:12<00:00,  6.30s/it, loss=0.0127, accuracy=0.96] \n",
      "train epoch 7: 100%|██████████| 7/7 [00:26<00:00,  3.75s/it, loss=0.00582, accuracy=0.98] \n",
      "val epoch 7: 100%|██████████| 2/2 [00:12<00:00,  6.10s/it, loss=0.0112, accuracy=0.92] \n",
      "train epoch 8: 100%|██████████| 7/7 [00:25<00:00,  3.63s/it, loss=0.000459, accuracy=1]\n",
      "val epoch 8: 100%|██████████| 2/2 [00:12<00:00,  6.21s/it, loss=0.0199, accuracy=0.92]\n",
      "train epoch 9: 100%|██████████| 7/7 [00:24<00:00,  3.57s/it, loss=0.000151, accuracy=1]\n",
      "val epoch 9: 100%|██████████| 2/2 [00:12<00:00,  6.10s/it, loss=0.0103, accuracy=0.92] \n"
     ]
    }
   ],
   "source": [
    "# Parameters\n",
    "batch_size = 16\n",
    "learning_rate = 0.001\n",
    "num_epochs = 10\n",
    "\n",
    "device = torch.device(\"mps\" if torch.backends.mps.is_available() else \"cpu\")\n",
    "\n",
    "train_loader = DataLoader(train_dataset, batch_size=batch_size, shuffle=True, num_workers=4)\n",
    "val_loader = DataLoader(val_dataset, batch_size=batch_size, shuffle=False, num_workers=4)\n",
    "\n",
    "# Initialize model, loss, optimizer\n",
    "model = CNNModel()\n",
    "criterion = nn.CrossEntropyLoss()\n",
    "optimizer = optim.Adam(model.parameters(), lr=learning_rate)\n",
    "model.to(device)\n",
    "\n",
    "train_losses = []\n",
    "val_losses = []\n",
    "train_accuracy = []\n",
    "val_accuracy = []\n",
    "\n",
    "for epoch in range(num_epochs):\n",
    "    # perform training followed by validation\n",
    "    for mode, loader, num_samples in [\n",
    "        (\"train\", train_loader, train_size),\n",
    "        (\"val\", val_loader, val_size)\n",
    "    ]:\n",
    "        # progress bar setup\n",
    "        num_batches = int(ceil(num_samples / batch_size))\n",
    "        pbar = tqdm(total=num_batches, desc=f\"{mode} epoch {epoch}\")\n",
    "\n",
    "        if mode == \"train\":\n",
    "            model.train()\n",
    "        else:\n",
    "            model.eval()\n",
    "\n",
    "        # initial values of the metrics (loss, accurracy)\n",
    "        runningLoss = 0.\n",
    "        correct_predictions = 0\n",
    "        # total number of images that were processed\n",
    "        total_samples = 0\n",
    "\n",
    "        for spectrograms, labels in loader:\n",
    "            # move tensors to the correct device\n",
    "            spectrograms, labels = spectrograms.to(device), labels.to(device)\n",
    "            # forward step of model\n",
    "            outputs = model(spectrograms)\n",
    "            # loss calculation\n",
    "            loss = criterion(outputs, labels)\n",
    "\n",
    "            # calculate metrix for progress bar\n",
    "            num_batch_samples = len(spectrograms)\n",
    "            runningLoss += loss.item()\n",
    "            correct_predictions += (outputs.argmax(dim=1) == labels).sum().item()\n",
    "            total_samples += num_batch_samples\n",
    "\n",
    "            pbar.update(1)\n",
    "            pbar.set_postfix({\n",
    "                \"loss\": runningLoss / total_samples,\n",
    "                \"accuracy\": correct_predictions / total_samples\n",
    "            })\n",
    "            \n",
    "            # if in train mode update weights\n",
    "            if mode == \"train\":\n",
    "                # backward step\n",
    "                optimizer.zero_grad()\n",
    "                loss.backward()\n",
    "                optimizer.step()\n",
    "            \n",
    "        epoch_loss = runningLoss / total_samples\n",
    "        epoch_accuracy = correct_predictions / total_samples\n",
    "        if mode == \"train\":\n",
    "            train_losses.append(epoch_loss)\n",
    "            train_accuracy.append(epoch_accuracy)\n",
    "        else:\n",
    "            val_losses.append(epoch_loss)\n",
    "            val_accuracy.append(epoch_accuracy)\n",
    "\n",
    "        pbar.close()\n",
    "\n",
    "\n",
    "# Train the model\n",
    "#train_model(model, train_loader, val_loader, criterion, optimizer, device, num_epochs)"
   ]
  },
  {
   "cell_type": "code",
   "execution_count": 4,
   "metadata": {},
   "outputs": [
    {
     "data": {
      "image/png": "[encoded data removed]",
      "text/plain": [
       "<Figure size 640x480 with 1 Axes>"
      ]
     },
     "metadata": {},
     "output_type": "display_data"
    }
   ],
   "source": [
    "plt.title(\"Loss\")\n",
    "plt.plot(train_losses, label=\"train\")\n",
    "plt.plot(val_losses, label=\"val\")\n",
    "plt.xlabel(\"Epochs\")\n",
    "plt.ylabel(\"Loss\")\n",
    "plt.legend()\n",
    "plt.show()"
   ]
  },
  {
   "cell_type": "code",
   "execution_count": 5,
   "metadata": {},
   "outputs": [
    {
     "data": {
      "image/png": "[encoded data removed]",
      "text/plain": [
       "<Figure size 640x480 with 1 Axes>"
      ]
     },
     "metadata": {},
     "output_type": "display_data"
    }
   ],
   "source": [
    "plt.title(\"Accuracy\")\n",
    "plt.plot(train_accuracy, label=\"train\")\n",
    "plt.plot(val_accuracy, label=\"val\")\n",
    "plt.xlabel(\"Epochs\")\n",
    "plt.ylabel(\"Accuracy\")\n",
    "plt.legend()\n",
    "plt.show()"
   ]
  },
  {
   "cell_type": "code",
   "execution_count": 6,
   "metadata": {},
   "outputs": [],
   "source": [
    "torch.save(model.state_dict(), 'model.pth')"
   ]
  },
  {
   "cell_type": "code",
   "execution_count": 7,
   "metadata": {},
   "outputs": [
    {
     "name": "stdout",
     "output_type": "stream",
     "text": [
      "Predicted class: 3\n"
     ]
    }
   ],
   "source": [
    "#model = CNNModel()\n",
    "#model.load_state_dict(torch.load('model.pth'))\n",
    "model.to(device)\n",
    "model.eval()\n",
    "\n",
    "spectrogram_path = '/Users/jannisdaiber/Documents/Repos/github/ProjectMedicalWearables/Database/spectrograms/participant01/resting1.npy'\n",
    "spectrogram = np.load(spectrogram_path)\n",
    "spectrogram = np.expand_dims(spectrogram, axis=0)\n",
    "spectrogram = np.expand_dims(spectrogram, axis=0)\n",
    "spectrogram = torch.tensor(spectrogram, dtype=torch.float32)\n",
    "spectrogram = spectrogram.to(device)\n",
    "\n",
    "with torch.no_grad():\n",
    "    outputs = model(spectrogram)\n",
    "    preds = outputs.argmax(dim=1)\n",
    "\n",
    "predicted_class = preds.item()\n",
    "print(f\"Predicted class: {predicted_class}\")"
   ]
  }
 ],
 "metadata": {
  "kernelspec": {
   "display_name": "SnackTrack",
   "language": "python",
   "name": "python3"
  },
  "language_info": {
   "codemirror_mode": {
    "name": "ipython",
    "version": 3
   },
   "file_extension": ".py",
   "mimetype": "text/x-python",
   "name": "python",
   "nbconvert_exporter": "python",
   "pygments_lexer": "ipython3",
   "version": "3.9.20"
  }
 },
 "nbformat": 4,
 "nbformat_minor": 2
}
